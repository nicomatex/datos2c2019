{
 "cells": [
  {
   "cell_type": "code",
   "execution_count": 1,
   "metadata": {},
   "outputs": [],
   "source": [
    "import pyspark\n",
    "sc = pyspark.SparkContext()"
   ]
  },
  {
   "cell_type": "code",
   "execution_count": 2,
   "metadata": {},
   "outputs": [],
   "source": [
    "textfile = sc.textFile(\"data.csv\")"
   ]
  },
  {
   "cell_type": "code",
   "execution_count": 3,
   "metadata": {},
   "outputs": [
    {
     "data": {
      "text/plain": [
       "[('0', 'Citroen', 'C4', 'version random', 'pickup', 'provincia', '16-9-2017')]"
      ]
     },
     "execution_count": 3,
     "metadata": {},
     "output_type": "execute_result"
    }
   ],
   "source": [
    "rdd = textfile.map(lambda x:tuple(x.split(',')))\n",
    "rdd.take(1)"
   ]
  },
  {
   "cell_type": "code",
   "execution_count": 5,
   "metadata": {},
   "outputs": [],
   "source": [
    "def fecha_adecuada(x):\n",
    "    fecha = x[6].split('-')\n",
    "    return fecha[1] == '4' and fecha[2] == '2017'"
   ]
  },
  {
   "cell_type": "code",
   "execution_count": 47,
   "metadata": {},
   "outputs": [],
   "source": [
    "marca_y_modelo_por_tipo = rdd.filter(fecha_adecuada).map(lambda x:(f\"{x[4]}-{x[1]}-{x[2]}\",1))"
   ]
  },
  {
   "cell_type": "code",
   "execution_count": 54,
   "metadata": {},
   "outputs": [],
   "source": [
    "mas_patentados = marca_y_modelo_por_tipo.reduceByKey(lambda x,y:x+y)\\\n",
    "                        .map(lambda x:(x[0].split('-')[0],(x[0].split('-')[1],x[0].split('-')[2],x[1])))"
   ]
  },
  {
   "cell_type": "code",
   "execution_count": 55,
   "metadata": {},
   "outputs": [
    {
     "data": {
      "text/plain": [
       "[('moto', ('Fiat', 'Uno', 1)),\n",
       " ('camion', ('Chevrolet', 'Corolla', 1)),\n",
       " ('moto', ('Toyota', 'Focus', 3)),\n",
       " ('camion', ('Citroen', 'Corolla', 1)),\n",
       " ('pickup', ('Chevrolet', 'Focus', 1))]"
      ]
     },
     "execution_count": 55,
     "metadata": {},
     "output_type": "execute_result"
    }
   ],
   "source": [
    "mas_patentados.take(5)"
   ]
  },
  {
   "cell_type": "code",
   "execution_count": 59,
   "metadata": {},
   "outputs": [
    {
     "data": {
      "text/plain": [
       "[('auto', ('Renault', 'Focus', 1)),\n",
       " ('moto', ('Volkswagen', 'Focus', 4)),\n",
       " ('camion', ('Toyota', 'Uno', 3)),\n",
       " ('pickup', ('Ford', 'Corolla', 2))]"
      ]
     },
     "execution_count": 59,
     "metadata": {},
     "output_type": "execute_result"
    }
   ],
   "source": [
    "mas_patentados.reduceByKey(lambda x,y:x if x[2] > y[2] else y).collect()"
   ]
  },
  {
   "cell_type": "code",
   "execution_count": null,
   "metadata": {},
   "outputs": [],
   "source": []
  }
 ],
 "metadata": {
  "kernelspec": {
   "display_name": "Python 3",
   "language": "python",
   "name": "python3"
  },
  "language_info": {
   "codemirror_mode": {
    "name": "ipython",
    "version": 3
   },
   "file_extension": ".py",
   "mimetype": "text/x-python",
   "name": "python",
   "nbconvert_exporter": "python",
   "pygments_lexer": "ipython3",
   "version": "3.6.8"
  }
 },
 "nbformat": 4,
 "nbformat_minor": 4
}
