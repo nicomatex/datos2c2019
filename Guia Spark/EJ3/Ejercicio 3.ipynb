{
 "cells": [
  {
   "cell_type": "markdown",
   "metadata": {},
   "source": [
    "# Guia 2: PySpark\n",
    "### Ejercicio 3:\n",
    "\n",
    "Se tiene un RDD con información de vuelos programados con la forma:\n",
    "\n",
    "`(número de vuelo, código de aerolínea, código de aeropuerto de salida, código de aeropuerto de llegada, fecha de salida AAAAMMDD, hora de salida HH:MM, fecha de llegada AAAAMMDD, hora de llegada HH:MM)`.\n",
    "\n",
    "A su vez, se cuenta con el registro actualizado del estado de los vuelos que fueron ocurriendo, con la forma:\n",
    "\n",
    "`(número de vuelo, aerolínea, fecha de salida AAAAMMDD, hora de salida HH:MM, fecha de llegada AAAAMMDD, hora de llegada HH:MM, estado)`.\n",
    "\n",
    "En base al estado, podría contar con algún dato en blanco, por ejemplo si el vuelo fue cancelado no tendrá información de fechas y horas, si el vuelo se encuentra aún en curso, no contendrá información de la llegada.\n",
    "\n",
    "1. Cuál es el aeropuerto con mayor tránsito.\n",
    "2. Cuál es la aerolínea con mayor cantidad de vuelos.\n",
    "3. Cuál es la aerolínea con mayor cantidad de cancelaciones.\n",
    "4. Cuál es el vuelo (numero de vuelo + fecha) con mayor retraso en el horario de salida.\n",
    "5. Cuál es el vuelo (numero de vuelo + fecha) con mayor retraso en el horario de llegada.\n",
    "6. Cuál es la aerolínea más puntual.\n",
    "7. Cuál es el aeropuerto que registra mayor desviación con respecto a los horarios coordinados.\n"
   ]
  },
  {
   "cell_type": "markdown",
   "metadata": {},
   "source": [
    "### Data"
   ]
  },
  {
   "cell_type": "code",
   "execution_count": 1,
   "metadata": {},
   "outputs": [],
   "source": [
    "from datetime import datetime as dt\n",
    "import pyspark\n",
    "sc = pyspark.SparkContext()"
   ]
  },
  {
   "cell_type": "code",
   "execution_count": 2,
   "metadata": {},
   "outputs": [],
   "source": [
    "# (número de vuelo, aerolínea, código de aeropuerto de salida, código de aeropuerto de llegada,\n",
    "# fecha de salida AAAAMMDD, hora de salida HH:MM, fecha de llegada AAAAMMDD, hora de llegada HH:MM)\n",
    "data=[\n",
    "    (100, 'American Airlines', 'EZE', 'FCO', '20191204', '16:00', '20191204', '18:00'),\n",
    "    (101, 'American Airlines', 'JFK', 'FCO', '20191205', '17:00', '20191205', '18:00'),\n",
    "    (102, 'American Airlines', 'BRA', 'FCO', '20191206', '18:00', '20191206', '21:00'),\n",
    "    (103, 'American Airlines', 'FCO', 'EZE', '20191207', '19:00', '20191207', '22:00'),\n",
    "    (104, 'Aerolineas Argentinas', 'BRA', 'EZE', '20191208', '11:00', '20191208', '15:00'),\n",
    "    (105, 'Aerolineas Argentinas', 'FCO', 'BRA', '20191209', '12:00', '20191209', '17:00'),\n",
    "    (106, 'Aerolineas Argentinas', 'FCO', 'JFK', '20191210', '13:00', '20191210', '18:00'),\n",
    "    (107, 'LATAM', 'EZE', 'JFK', '20191211', '14:00', '20191211', '18:00'),\n",
    "    (108, 'LATAM', 'JFK', 'EZE', '20191212', '15:00', '20191212', '18:00'),\n",
    "    ]\n",
    "\n",
    "# (número de vuelo, aerolínea, fecha de salida AAAAMMDD, hora de salida HH:MM,\n",
    "# fecha de llegada AAAAMMDD, hora de llegada HH:MM, estado).\n",
    "data2=[\n",
    "    (100, 'American Airlines', '20191204', '16:15', '20191204', '18:18', 'Finalizado'),\n",
    "    (101, 'American Airlines', '20191205', '17:13', '', '', 'En curso'),\n",
    "    (102, 'American Airlines', '20191206', '18:34', '20191206', '21:21', 'Finalizado'),\n",
    "    (103, 'American Airlines', '20191207', '19:02', '20191207', '22:10', 'Finalizado'),\n",
    "    (104, 'Aerolineas Argentinas', '20191208', '11:01', '', '', 'En curso'),\n",
    "    (105, 'Aerolineas Argentinas', '20191209', '12:09', '20191209', '16:53', 'Finalizado'),\n",
    "    (106, 'Aerolineas Argentinas', '20191210', '13:57', '20191210', '18:58', 'Finalizado'),\n",
    "    (107, 'LATAM', '', '', '', '', 'Cancelado'),\n",
    "    (108, 'LATAM', '20191212', '15:22', '20191212', '18:15', 'Finalizado'),\n",
    "    ]\n",
    "\n",
    "rdd = sc.parallelize(data)\n",
    "rdd2 = sc.parallelize(data2)"
   ]
  },
  {
   "cell_type": "code",
   "execution_count": null,
   "metadata": {},
   "outputs": [],
   "source": []
  },
  {
   "cell_type": "markdown",
   "metadata": {},
   "source": [
    "# Inciso A: Aeropuerto con mayor transito"
   ]
  },
  {
   "cell_type": "code",
   "execution_count": 3,
   "metadata": {},
   "outputs": [],
   "source": [
    "vuelos_salida = rdd.map(lambda x: (x[2],1))\n",
    "salidas_por_aeropuerto = vuelos_salida.reduceByKey(lambda x,y:x+y)\n",
    "vuelos_llegada = rdd.map(lambda x: (x[3],1))\n",
    "llegadas_por_aeropuerto = vuelos_llegada.reduceByKey(lambda x,y:x+y)"
   ]
  },
  {
   "cell_type": "code",
   "execution_count": 4,
   "metadata": {},
   "outputs": [],
   "source": [
    "salidas_y_llegadas_por_aeropuerto = salidas_por_aeropuerto.join(llegadas_por_aeropuerto)"
   ]
  },
  {
   "cell_type": "code",
   "execution_count": 6,
   "metadata": {},
   "outputs": [],
   "source": [
    "actividad_por_aeropuerto = salidas_y_llegadas_por_aeropuerto.map(lambda x:(x[0],x[1][0]+x[1][1]))"
   ]
  },
  {
   "cell_type": "code",
   "execution_count": 9,
   "metadata": {},
   "outputs": [
    {
     "data": {
      "text/plain": [
       "[('FCO', 6)]"
      ]
     },
     "execution_count": 9,
     "metadata": {},
     "output_type": "execute_result"
    }
   ],
   "source": [
    "actividad_por_aeropuerto.takeOrdered(1,lambda x: -x[1])"
   ]
  },
  {
   "cell_type": "markdown",
   "metadata": {},
   "source": [
    "# Inciso B: Aerolinea con mayor cantidad de vuelos"
   ]
  },
  {
   "cell_type": "code",
   "execution_count": 10,
   "metadata": {},
   "outputs": [],
   "source": [
    "vuelos_por_aerolinea = rdd.map(lambda x: (x[1],1)).reduceByKey(lambda x,y:x+y)"
   ]
  },
  {
   "cell_type": "code",
   "execution_count": 11,
   "metadata": {},
   "outputs": [
    {
     "data": {
      "text/plain": [
       "[('American Airlines', 4)]"
      ]
     },
     "execution_count": 11,
     "metadata": {},
     "output_type": "execute_result"
    }
   ],
   "source": [
    "vuelos_por_aerolinea.takeOrdered(1,lambda x:-x[1])"
   ]
  },
  {
   "cell_type": "markdown",
   "metadata": {},
   "source": [
    "# Inciso C: Aerolinea con mayor cant de cancelaciones"
   ]
  },
  {
   "cell_type": "code",
   "execution_count": 12,
   "metadata": {},
   "outputs": [],
   "source": [
    "cancelaciones_por_aerolinea = rdd2.filter(lambda x: x[6]=='Cancelado').map(lambda x: (x[1],1)).reduceByKey(lambda x,y:x+y)"
   ]
  },
  {
   "cell_type": "code",
   "execution_count": 15,
   "metadata": {},
   "outputs": [
    {
     "data": {
      "text/plain": [
       "('LATAM', 1)"
      ]
     },
     "execution_count": 15,
     "metadata": {},
     "output_type": "execute_result"
    }
   ],
   "source": [
    "cancelaciones_por_aerolinea.reduce(lambda x,y: x if x[1] > y[1] else y)"
   ]
  },
  {
   "cell_type": "code",
   "execution_count": 16,
   "metadata": {},
   "outputs": [
    {
     "data": {
      "text/plain": [
       "[('LATAM', 1)]"
      ]
     },
     "execution_count": 16,
     "metadata": {},
     "output_type": "execute_result"
    }
   ],
   "source": [
    "cancelaciones_por_aerolinea.collect()"
   ]
  },
  {
   "cell_type": "markdown",
   "metadata": {},
   "source": [
    "# Inciso D: Vuelo con mayor retraso en el horario de salida"
   ]
  },
  {
   "cell_type": "code",
   "execution_count": 27,
   "metadata": {},
   "outputs": [],
   "source": [
    "horarios_salida_programados = rdd.map(lambda x:(x[0],dt.strptime(f\"{x[4]}-{x[5]}\",'%Y%m%d-%H:%M')))"
   ]
  },
  {
   "cell_type": "code",
   "execution_count": 34,
   "metadata": {},
   "outputs": [],
   "source": [
    "horarios_salida_reales = rdd2.filter(lambda x: x[6] in [\"Finalizado\",\"En curso\"]).map(lambda x:(x[0],dt.strptime(f\"{x[2]}-{x[3]}\",'%Y%m%d-%H:%M')))"
   ]
  },
  {
   "cell_type": "code",
   "execution_count": 35,
   "metadata": {},
   "outputs": [],
   "source": [
    "horarios_salida = horarios_salida_programados.join(horarios_salida_reales)"
   ]
  },
  {
   "cell_type": "code",
   "execution_count": 36,
   "metadata": {},
   "outputs": [
    {
     "data": {
      "text/plain": [
       "[(104,\n",
       "  (datetime.datetime(2019, 12, 8, 11, 0),\n",
       "   datetime.datetime(2019, 12, 8, 11, 1))),\n",
       " (105,\n",
       "  (datetime.datetime(2019, 12, 9, 12, 0),\n",
       "   datetime.datetime(2019, 12, 9, 12, 9)))]"
      ]
     },
     "execution_count": 36,
     "metadata": {},
     "output_type": "execute_result"
    }
   ],
   "source": [
    "horarios_salida.take(2)"
   ]
  },
  {
   "cell_type": "code",
   "execution_count": 37,
   "metadata": {},
   "outputs": [],
   "source": [
    "retrasos = horarios_salida.map(lambda x: (x[0],x[1][1]-x[1][0]))"
   ]
  },
  {
   "cell_type": "code",
   "execution_count": 40,
   "metadata": {},
   "outputs": [],
   "source": [
    "vuelo_mas_retrasado = retrasos.reduce(lambda x,y: x if x[1] > y[1] else y)[0]"
   ]
  },
  {
   "cell_type": "code",
   "execution_count": 41,
   "metadata": {},
   "outputs": [
    {
     "data": {
      "text/plain": [
       "[(106, datetime.datetime(2019, 12, 10, 13, 0))]"
      ]
     },
     "execution_count": 41,
     "metadata": {},
     "output_type": "execute_result"
    }
   ],
   "source": [
    "horarios_salida_programados.filter(lambda x:x[0]==vuelo_mas_retrasado).collect()"
   ]
  },
  {
   "cell_type": "markdown",
   "metadata": {},
   "source": [
    "# Inciso E: Vuelo con mas retraso en la llegada"
   ]
  },
  {
   "cell_type": "code",
   "execution_count": 43,
   "metadata": {},
   "outputs": [],
   "source": [
    "horarios_llegada_programados = rdd.map(lambda x:(x[0],dt.strptime(f\"{x[6]}-{x[7]}\",'%Y%m%d-%H:%M')))"
   ]
  },
  {
   "cell_type": "code",
   "execution_count": 44,
   "metadata": {},
   "outputs": [],
   "source": [
    "horarios_llegada_reales = rdd2.filter(lambda x: x[6] in [\"Finalizado\"]).map(lambda x:(x[0],dt.strptime(f\"{x[4]}-{x[5]}\",'%Y%m%d-%H:%M')))"
   ]
  },
  {
   "cell_type": "code",
   "execution_count": 46,
   "metadata": {},
   "outputs": [],
   "source": [
    "horarios_llegada = horarios_llegada_reales.join(horarios_llegada_programados)"
   ]
  },
  {
   "cell_type": "code",
   "execution_count": 48,
   "metadata": {},
   "outputs": [],
   "source": [
    "retrasos_llegada = horarios_llegada.map(lambda x:(x[0],x[1][0]-x[1][1]))"
   ]
  },
  {
   "cell_type": "code",
   "execution_count": 49,
   "metadata": {},
   "outputs": [],
   "source": [
    "vuelo_mas_retrasado_llegada = retrasos_llegada.reduce(lambda x,y: x if x[1] > y[1] else y)[0]"
   ]
  },
  {
   "cell_type": "code",
   "execution_count": 51,
   "metadata": {},
   "outputs": [
    {
     "data": {
      "text/plain": [
       "[(106, datetime.datetime(2019, 12, 10, 18, 0))]"
      ]
     },
     "execution_count": 51,
     "metadata": {},
     "output_type": "execute_result"
    }
   ],
   "source": [
    "horarios_llegada_programados.filter(lambda x:x[0] == vuelo_mas_retrasado_llegada).collect()"
   ]
  },
  {
   "cell_type": "markdown",
   "metadata": {},
   "source": [
    "# Inciso F: Aerolinea mas puntual"
   ]
  },
  {
   "cell_type": "code",
   "execution_count": 58,
   "metadata": {},
   "outputs": [],
   "source": [
    "aerolinea_por_vuelo = rdd.map(lambda x:(x[0],x[1]))"
   ]
  },
  {
   "cell_type": "code",
   "execution_count": 59,
   "metadata": {},
   "outputs": [
    {
     "data": {
      "text/plain": [
       "[(104, datetime.timedelta(0, 60))]"
      ]
     },
     "execution_count": 59,
     "metadata": {},
     "output_type": "execute_result"
    }
   ],
   "source": [
    "retrasos.take(1) #Retrasos de salida"
   ]
  },
  {
   "cell_type": "code",
   "execution_count": 63,
   "metadata": {},
   "outputs": [],
   "source": [
    "retrasos_por_aerolinea = retrasos.join(aerolinea_por_vuelo).map(lambda x: (x[1][1],(x[1][0],1)))"
   ]
  },
  {
   "cell_type": "code",
   "execution_count": 69,
   "metadata": {},
   "outputs": [
    {
     "data": {
      "text/plain": [
       "('American Airlines', datetime.timedelta(0, 960))"
      ]
     },
     "execution_count": 69,
     "metadata": {},
     "output_type": "execute_result"
    }
   ],
   "source": [
    "retrasos_por_aerolinea.reduceByKey(lambda x,y:(x[0]+y[0],x[1]+y[1])).map(lambda x:(x[0],x[1][0]/x[1][1])).reduce(lambda x,y: x if x[1]< y[1] else y)"
   ]
  },
  {
   "cell_type": "markdown",
   "metadata": {},
   "source": [
    "# Inciso G: Aerolinea que presenta mas desviacion respecto de horarios coordinados"
   ]
  },
  {
   "cell_type": "code",
   "execution_count": 70,
   "metadata": {},
   "outputs": [
    {
     "data": {
      "text/plain": [
       "[(104, datetime.timedelta(0, 60))]"
      ]
     },
     "execution_count": 70,
     "metadata": {},
     "output_type": "execute_result"
    }
   ],
   "source": [
    "retrasos.take(1)"
   ]
  },
  {
   "cell_type": "code",
   "execution_count": 71,
   "metadata": {},
   "outputs": [
    {
     "data": {
      "text/plain": [
       "[(105, datetime.timedelta(-1, 85980))]"
      ]
     },
     "execution_count": 71,
     "metadata": {},
     "output_type": "execute_result"
    }
   ],
   "source": [
    "retrasos_llegada.take(1)"
   ]
  },
  {
   "cell_type": "code",
   "execution_count": 76,
   "metadata": {},
   "outputs": [],
   "source": [
    "retrasos_total = retrasos.leftOuterJoin(retrasos_llegada).map(lambda x:(x[0],(x[1][0],0 if not x[1][1] else x[1][1]))).map(lambda x:(x[0],x[1][0]+x[1][1]))"
   ]
  },
  {
   "cell_type": "code",
   "execution_count": 85,
   "metadata": {},
   "outputs": [
    {
     "data": {
      "text/plain": [
       "('Aerolineas Argentinas', datetime.timedelta(0, 1340))"
      ]
     },
     "execution_count": 85,
     "metadata": {},
     "output_type": "execute_result"
    }
   ],
   "source": [
    "retrasos.join(aerolinea_por_vuelo).map(lambda x: (x[1][1],(x[1][0],1))).reduceByKey(lambda x,y:(x[0]+y[0],x[1]+y[1])).map(lambda x:(x[0],x[1][0]/x[1][1])).reduce(lambda x,y: x if x[1]>y[1] else y)"
   ]
  },
  {
   "cell_type": "code",
   "execution_count": null,
   "metadata": {},
   "outputs": [],
   "source": []
  }
 ],
 "metadata": {
  "kernelspec": {
   "display_name": "Python 3",
   "language": "python",
   "name": "python3"
  },
  "language_info": {
   "codemirror_mode": {
    "name": "ipython",
    "version": 3
   },
   "file_extension": ".py",
   "mimetype": "text/x-python",
   "name": "python",
   "nbconvert_exporter": "python",
   "pygments_lexer": "ipython3",
   "version": "3.6.8"
  }
 },
 "nbformat": 4,
 "nbformat_minor": 4
}
