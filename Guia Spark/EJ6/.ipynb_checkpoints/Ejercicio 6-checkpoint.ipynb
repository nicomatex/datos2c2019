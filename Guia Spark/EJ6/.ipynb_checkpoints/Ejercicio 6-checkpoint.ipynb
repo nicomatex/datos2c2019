{
 "cells": [
  {
   "cell_type": "code",
   "execution_count": 1,
   "metadata": {},
   "outputs": [],
   "source": [
    "import pyspark\n",
    "sc = pyspark.SparkContext()"
   ]
  },
  {
   "cell_type": "code",
   "execution_count": 6,
   "metadata": {},
   "outputs": [
    {
     "data": {
      "text/plain": [
       "[(7, '20170101', 8),\n",
       " (2, '20160801', 6),\n",
       " (14, '20160801', 11),\n",
       " (16, '20170201', 7),\n",
       " (16, '20150801', 5)]"
      ]
     },
     "execution_count": 6,
     "metadata": {},
     "output_type": "execute_result"
    }
   ],
   "source": [
    "textfile = sc.textFile(\"data.csv\")\n",
    "rdd = textfile.map(lambda x:tuple(x.split(','))).map(lambda x:(int(x[0]),x[4],int(x[5])))"
   ]
  },
  {
   "cell_type": "code",
   "execution_count": 7,
   "metadata": {},
   "outputs": [],
   "source": [
    "viajes_abril_2016 = rdd.filter(lambda x:x[1][0:6]=='201604')"
   ]
  },
  {
   "cell_type": "code",
   "execution_count": 15,
   "metadata": {},
   "outputs": [],
   "source": [
    "distancias_promedio = viajes_abril_2016\\\n",
    "                        .map(lambda x:(x[0],(x[2],1)))\\\n",
    "                        .reduceByKey(lambda x,y:(x[0]+y[0],x[1]+y[1]))\\\n",
    "                        .map(lambda x:(x[0],x[1][0]/x[1][1]))"
   ]
  },
  {
   "cell_type": "code",
   "execution_count": 18,
   "metadata": {},
   "outputs": [
    {
     "data": {
      "text/plain": [
       "(9, 13.0)"
      ]
     },
     "execution_count": 18,
     "metadata": {},
     "output_type": "execute_result"
    }
   ],
   "source": [
    "distancias_promedio.reduce(lambda x,y:x if x[1]>y[1] else y)"
   ]
  },
  {
   "cell_type": "code",
   "execution_count": null,
   "metadata": {},
   "outputs": [],
   "source": []
  }
 ],
 "metadata": {
  "kernelspec": {
   "display_name": "Python 3",
   "language": "python",
   "name": "python3"
  },
  "language_info": {
   "codemirror_mode": {
    "name": "ipython",
    "version": 3
   },
   "file_extension": ".py",
   "mimetype": "text/x-python",
   "name": "python",
   "nbconvert_exporter": "python",
   "pygments_lexer": "ipython3",
   "version": "3.6.8"
  }
 },
 "nbformat": 4,
 "nbformat_minor": 4
}
