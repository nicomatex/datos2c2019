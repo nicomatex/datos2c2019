{
 "cells": [
  {
   "cell_type": "code",
   "execution_count": 1,
   "metadata": {},
   "outputs": [],
   "source": [
    "import pandas as pd"
   ]
  },
  {
   "cell_type": "code",
   "execution_count": 15,
   "metadata": {},
   "outputs": [],
   "source": [
    "df = pd.read_csv(\"ejercicio2.csv\")"
   ]
  },
  {
   "cell_type": "markdown",
   "metadata": {},
   "source": [
    "# Inciso A: validar que todas las transacciones cuenten con un tipo"
   ]
  },
  {
   "cell_type": "code",
   "execution_count": 16,
   "metadata": {},
   "outputs": [
    {
     "data": {
      "text/html": [
       "<div>\n",
       "<style scoped>\n",
       "    .dataframe tbody tr th:only-of-type {\n",
       "        vertical-align: middle;\n",
       "    }\n",
       "\n",
       "    .dataframe tbody tr th {\n",
       "        vertical-align: top;\n",
       "    }\n",
       "\n",
       "    .dataframe thead th {\n",
       "        text-align: right;\n",
       "    }\n",
       "</style>\n",
       "<table border=\"1\" class=\"dataframe\">\n",
       "  <thead>\n",
       "    <tr style=\"text-align: right;\">\n",
       "      <th></th>\n",
       "      <th>nro de transaccion</th>\n",
       "      <th>tipo de transaccion</th>\n",
       "      <th>cuenta origen</th>\n",
       "      <th>cuenta destino</th>\n",
       "      <th>fecha</th>\n",
       "      <th>hora</th>\n",
       "      <th>monto</th>\n",
       "    </tr>\n",
       "  </thead>\n",
       "  <tbody>\n",
       "    <tr>\n",
       "      <td>0</td>\n",
       "      <td>0</td>\n",
       "      <td>extraccion</td>\n",
       "      <td>101924</td>\n",
       "      <td>102145.0</td>\n",
       "      <td>31-03-1998</td>\n",
       "      <td>5:55</td>\n",
       "      <td>50</td>\n",
       "    </tr>\n",
       "    <tr>\n",
       "      <td>1</td>\n",
       "      <td>1</td>\n",
       "      <td>extraccion</td>\n",
       "      <td>100274</td>\n",
       "      <td>204822.0</td>\n",
       "      <td>31-03-1998</td>\n",
       "      <td>5:55</td>\n",
       "      <td>13839</td>\n",
       "    </tr>\n",
       "    <tr>\n",
       "      <td>2</td>\n",
       "      <td>2</td>\n",
       "      <td>transferencia</td>\n",
       "      <td>204822</td>\n",
       "      <td>101924.0</td>\n",
       "      <td>31-03-1998</td>\n",
       "      <td>5:55</td>\n",
       "      <td>14886</td>\n",
       "    </tr>\n",
       "    <tr>\n",
       "      <td>3</td>\n",
       "      <td>3</td>\n",
       "      <td>extraccion</td>\n",
       "      <td>101924</td>\n",
       "      <td>204822.0</td>\n",
       "      <td>31-03-1998</td>\n",
       "      <td>5:55</td>\n",
       "      <td>8260</td>\n",
       "    </tr>\n",
       "    <tr>\n",
       "      <td>4</td>\n",
       "      <td>4</td>\n",
       "      <td>deposito</td>\n",
       "      <td>204012</td>\n",
       "      <td>204822.0</td>\n",
       "      <td>31-03-1998</td>\n",
       "      <td>5:55</td>\n",
       "      <td>12434</td>\n",
       "    </tr>\n",
       "  </tbody>\n",
       "</table>\n",
       "</div>"
      ],
      "text/plain": [
       "   nro de transaccion tipo de transaccion  cuenta origen  cuenta destino  \\\n",
       "0                   0          extraccion         101924        102145.0   \n",
       "1                   1          extraccion         100274        204822.0   \n",
       "2                   2       transferencia         204822        101924.0   \n",
       "3                   3          extraccion         101924        204822.0   \n",
       "4                   4            deposito         204012        204822.0   \n",
       "\n",
       "        fecha  hora  monto  \n",
       "0  31-03-1998  5:55     50  \n",
       "1  31-03-1998  5:55  13839  \n",
       "2  31-03-1998  5:55  14886  \n",
       "3  31-03-1998  5:55   8260  \n",
       "4  31-03-1998  5:55  12434  "
      ]
     },
     "execution_count": 16,
     "metadata": {},
     "output_type": "execute_result"
    }
   ],
   "source": [
    "df.head()"
   ]
  },
  {
   "cell_type": "code",
   "execution_count": 17,
   "metadata": {},
   "outputs": [
    {
     "data": {
      "text/plain": [
       "False"
      ]
     },
     "execution_count": 17,
     "metadata": {},
     "output_type": "execute_result"
    }
   ],
   "source": [
    "df[\"tipo de transaccion\"].notnull().all()"
   ]
  },
  {
   "cell_type": "markdown",
   "metadata": {},
   "source": [
    "# Inciso B: validar que todas las transferencias tengan tanto cuenta de origen como cuenta de destino"
   ]
  },
  {
   "cell_type": "code",
   "execution_count": 18,
   "metadata": {},
   "outputs": [
    {
     "data": {
      "text/plain": [
       "True"
      ]
     },
     "execution_count": 18,
     "metadata": {},
     "output_type": "execute_result"
    }
   ],
   "source": [
    "df.loc[df[\"tipo de transaccion\"] == \"transferencia\"][\"cuenta origen\"].notnull().all()"
   ]
  },
  {
   "cell_type": "code",
   "execution_count": 19,
   "metadata": {},
   "outputs": [
    {
     "data": {
      "text/plain": [
       "True"
      ]
     },
     "execution_count": 19,
     "metadata": {},
     "output_type": "execute_result"
    }
   ],
   "source": [
    "df.loc[df[\"tipo de transaccion\"] == \"transferencia\"][\"cuenta destino\"].notnull().all()"
   ]
  },
  {
   "cell_type": "markdown",
   "metadata": {},
   "source": [
    "# Inciso C: Verificar que todas las transferencias, depositos y extracciones tengan montos distintos de 0"
   ]
  },
  {
   "cell_type": "code",
   "execution_count": 26,
   "metadata": {},
   "outputs": [
    {
     "data": {
      "text/plain": [
       "False"
      ]
     },
     "execution_count": 26,
     "metadata": {},
     "output_type": "execute_result"
    }
   ],
   "source": [
    "df.loc[(df[\"tipo de transaccion\"] == \"transferencia\") | (df[\"tipo de transaccion\"] == \"deposito\") | (df[\"tipo de transaccion\"] == \"extraccion\")].monto.map(lambda monto: monto != 0).all()"
   ]
  },
  {
   "cell_type": "markdown",
   "metadata": {},
   "source": [
    "# Inciso D: Indicar las 10 transacciones de mayor monto"
   ]
  },
  {
   "cell_type": "code",
   "execution_count": 31,
   "metadata": {},
   "outputs": [
    {
     "data": {
      "text/html": [
       "<div>\n",
       "<style scoped>\n",
       "    .dataframe tbody tr th:only-of-type {\n",
       "        vertical-align: middle;\n",
       "    }\n",
       "\n",
       "    .dataframe tbody tr th {\n",
       "        vertical-align: top;\n",
       "    }\n",
       "\n",
       "    .dataframe thead th {\n",
       "        text-align: right;\n",
       "    }\n",
       "</style>\n",
       "<table border=\"1\" class=\"dataframe\">\n",
       "  <thead>\n",
       "    <tr style=\"text-align: right;\">\n",
       "      <th></th>\n",
       "      <th>nro de transaccion</th>\n",
       "      <th>tipo de transaccion</th>\n",
       "      <th>cuenta origen</th>\n",
       "      <th>cuenta destino</th>\n",
       "      <th>fecha</th>\n",
       "      <th>hora</th>\n",
       "      <th>monto</th>\n",
       "    </tr>\n",
       "  </thead>\n",
       "  <tbody>\n",
       "    <tr>\n",
       "      <td>2</td>\n",
       "      <td>2</td>\n",
       "      <td>transferencia</td>\n",
       "      <td>204822</td>\n",
       "      <td>101924.0</td>\n",
       "      <td>31-03-1998</td>\n",
       "      <td>5:55</td>\n",
       "      <td>14886</td>\n",
       "    </tr>\n",
       "    <tr>\n",
       "      <td>61</td>\n",
       "      <td>61</td>\n",
       "      <td>deposito</td>\n",
       "      <td>100274</td>\n",
       "      <td>202123.0</td>\n",
       "      <td>31-03-1998</td>\n",
       "      <td>5:55</td>\n",
       "      <td>14795</td>\n",
       "    </tr>\n",
       "    <tr>\n",
       "      <td>11</td>\n",
       "      <td>11</td>\n",
       "      <td>extraccion</td>\n",
       "      <td>102145</td>\n",
       "      <td>100274.0</td>\n",
       "      <td>31-03-1998</td>\n",
       "      <td>5:55</td>\n",
       "      <td>14610</td>\n",
       "    </tr>\n",
       "    <tr>\n",
       "      <td>31</td>\n",
       "      <td>31</td>\n",
       "      <td>extraccion</td>\n",
       "      <td>204822</td>\n",
       "      <td>103123.0</td>\n",
       "      <td>31-03-1998</td>\n",
       "      <td>5:55</td>\n",
       "      <td>14479</td>\n",
       "    </tr>\n",
       "    <tr>\n",
       "      <td>88</td>\n",
       "      <td>88</td>\n",
       "      <td>extraccion</td>\n",
       "      <td>101924</td>\n",
       "      <td>204012.0</td>\n",
       "      <td>31-03-1998</td>\n",
       "      <td>5:55</td>\n",
       "      <td>14375</td>\n",
       "    </tr>\n",
       "    <tr>\n",
       "      <td>40</td>\n",
       "      <td>40</td>\n",
       "      <td>transferencia</td>\n",
       "      <td>102145</td>\n",
       "      <td>103123.0</td>\n",
       "      <td>31-03-1998</td>\n",
       "      <td>5:55</td>\n",
       "      <td>14312</td>\n",
       "    </tr>\n",
       "    <tr>\n",
       "      <td>42</td>\n",
       "      <td>42</td>\n",
       "      <td>transferencia</td>\n",
       "      <td>202123</td>\n",
       "      <td>204012.0</td>\n",
       "      <td>31-03-1998</td>\n",
       "      <td>5:55</td>\n",
       "      <td>14302</td>\n",
       "    </tr>\n",
       "    <tr>\n",
       "      <td>1</td>\n",
       "      <td>1</td>\n",
       "      <td>extraccion</td>\n",
       "      <td>100274</td>\n",
       "      <td>204822.0</td>\n",
       "      <td>31-03-1998</td>\n",
       "      <td>5:55</td>\n",
       "      <td>13839</td>\n",
       "    </tr>\n",
       "    <tr>\n",
       "      <td>93</td>\n",
       "      <td>93</td>\n",
       "      <td>transferencia</td>\n",
       "      <td>101924</td>\n",
       "      <td>103123.0</td>\n",
       "      <td>31-03-1998</td>\n",
       "      <td>5:55</td>\n",
       "      <td>13514</td>\n",
       "    </tr>\n",
       "    <tr>\n",
       "      <td>6</td>\n",
       "      <td>6</td>\n",
       "      <td>extraccion</td>\n",
       "      <td>100274</td>\n",
       "      <td>103123.0</td>\n",
       "      <td>31-03-1998</td>\n",
       "      <td>5:55</td>\n",
       "      <td>13262</td>\n",
       "    </tr>\n",
       "  </tbody>\n",
       "</table>\n",
       "</div>"
      ],
      "text/plain": [
       "    nro de transaccion tipo de transaccion  cuenta origen  cuenta destino  \\\n",
       "2                    2       transferencia         204822        101924.0   \n",
       "61                  61            deposito         100274        202123.0   \n",
       "11                  11          extraccion         102145        100274.0   \n",
       "31                  31          extraccion         204822        103123.0   \n",
       "88                  88          extraccion         101924        204012.0   \n",
       "40                  40       transferencia         102145        103123.0   \n",
       "42                  42       transferencia         202123        204012.0   \n",
       "1                    1          extraccion         100274        204822.0   \n",
       "93                  93       transferencia         101924        103123.0   \n",
       "6                    6          extraccion         100274        103123.0   \n",
       "\n",
       "         fecha  hora  monto  \n",
       "2   31-03-1998  5:55  14886  \n",
       "61  31-03-1998  5:55  14795  \n",
       "11  31-03-1998  5:55  14610  \n",
       "31  31-03-1998  5:55  14479  \n",
       "88  31-03-1998  5:55  14375  \n",
       "40  31-03-1998  5:55  14312  \n",
       "42  31-03-1998  5:55  14302  \n",
       "1   31-03-1998  5:55  13839  \n",
       "93  31-03-1998  5:55  13514  \n",
       "6   31-03-1998  5:55  13262  "
      ]
     },
     "execution_count": 31,
     "metadata": {},
     "output_type": "execute_result"
    }
   ],
   "source": [
    "df.nlargest(10,'monto')"
   ]
  },
  {
   "cell_type": "markdown",
   "metadata": {},
   "source": [
    "# Inciso E: Tipo de transaccion que registra mayor monto promedio"
   ]
  },
  {
   "cell_type": "code",
   "execution_count": 48,
   "metadata": {},
   "outputs": [
    {
     "data": {
      "text/html": [
       "<div>\n",
       "<style scoped>\n",
       "    .dataframe tbody tr th:only-of-type {\n",
       "        vertical-align: middle;\n",
       "    }\n",
       "\n",
       "    .dataframe tbody tr th {\n",
       "        vertical-align: top;\n",
       "    }\n",
       "\n",
       "    .dataframe thead th {\n",
       "        text-align: right;\n",
       "    }\n",
       "</style>\n",
       "<table border=\"1\" class=\"dataframe\">\n",
       "  <thead>\n",
       "    <tr style=\"text-align: right;\">\n",
       "      <th></th>\n",
       "      <th>monto</th>\n",
       "    </tr>\n",
       "    <tr>\n",
       "      <th>tipo de transaccion</th>\n",
       "      <th></th>\n",
       "    </tr>\n",
       "  </thead>\n",
       "  <tbody>\n",
       "    <tr>\n",
       "      <td>transferencia</td>\n",
       "      <td>8137.129032</td>\n",
       "    </tr>\n",
       "  </tbody>\n",
       "</table>\n",
       "</div>"
      ],
      "text/plain": [
       "                           monto\n",
       "tipo de transaccion             \n",
       "transferencia        8137.129032"
      ]
     },
     "execution_count": 48,
     "metadata": {},
     "output_type": "execute_result"
    }
   ],
   "source": [
    "df.groupby(\"tipo de transaccion\").agg({\"monto\":\"mean\"}).nlargest(1, \"monto\")"
   ]
  },
  {
   "cell_type": "markdown",
   "metadata": {},
   "source": [
    "# Inciso F: Cuenta con mas transacciones"
   ]
  },
  {
   "cell_type": "code",
   "execution_count": 50,
   "metadata": {},
   "outputs": [
    {
     "data": {
      "text/html": [
       "<div>\n",
       "<style scoped>\n",
       "    .dataframe tbody tr th:only-of-type {\n",
       "        vertical-align: middle;\n",
       "    }\n",
       "\n",
       "    .dataframe tbody tr th {\n",
       "        vertical-align: top;\n",
       "    }\n",
       "\n",
       "    .dataframe thead th {\n",
       "        text-align: right;\n",
       "    }\n",
       "</style>\n",
       "<table border=\"1\" class=\"dataframe\">\n",
       "  <thead>\n",
       "    <tr style=\"text-align: right;\">\n",
       "      <th></th>\n",
       "      <th>nro de transaccion</th>\n",
       "      <th>tipo de transaccion</th>\n",
       "      <th>cuenta destino</th>\n",
       "      <th>fecha</th>\n",
       "      <th>hora</th>\n",
       "      <th>monto</th>\n",
       "    </tr>\n",
       "    <tr>\n",
       "      <th>cuenta origen</th>\n",
       "      <th></th>\n",
       "      <th></th>\n",
       "      <th></th>\n",
       "      <th></th>\n",
       "      <th></th>\n",
       "      <th></th>\n",
       "    </tr>\n",
       "  </thead>\n",
       "  <tbody>\n",
       "    <tr>\n",
       "      <td>101924</td>\n",
       "      <td>16</td>\n",
       "      <td>16</td>\n",
       "      <td>16</td>\n",
       "      <td>16</td>\n",
       "      <td>16</td>\n",
       "      <td>16</td>\n",
       "    </tr>\n",
       "  </tbody>\n",
       "</table>\n",
       "</div>"
      ],
      "text/plain": [
       "               nro de transaccion  tipo de transaccion  cuenta destino  fecha  \\\n",
       "cuenta origen                                                                   \n",
       "101924                         16                   16              16     16   \n",
       "\n",
       "               hora  monto  \n",
       "cuenta origen               \n",
       "101924           16     16  "
      ]
     },
     "execution_count": 50,
     "metadata": {},
     "output_type": "execute_result"
    }
   ],
   "source": [
    "df.groupby(\"cuenta origen\").count().nlargest(1, \"nro de transaccion\")"
   ]
  },
  {
   "cell_type": "markdown",
   "metadata": {},
   "source": [
    "# Inciso G: Las 5 cuentas con mayor monto involucrado"
   ]
  },
  {
   "cell_type": "code",
   "execution_count": 51,
   "metadata": {},
   "outputs": [
    {
     "data": {
      "text/html": [
       "<div>\n",
       "<style scoped>\n",
       "    .dataframe tbody tr th:only-of-type {\n",
       "        vertical-align: middle;\n",
       "    }\n",
       "\n",
       "    .dataframe tbody tr th {\n",
       "        vertical-align: top;\n",
       "    }\n",
       "\n",
       "    .dataframe thead th {\n",
       "        text-align: right;\n",
       "    }\n",
       "</style>\n",
       "<table border=\"1\" class=\"dataframe\">\n",
       "  <thead>\n",
       "    <tr style=\"text-align: right;\">\n",
       "      <th></th>\n",
       "      <th>monto</th>\n",
       "    </tr>\n",
       "    <tr>\n",
       "      <th>cuenta origen</th>\n",
       "      <th></th>\n",
       "    </tr>\n",
       "  </thead>\n",
       "  <tbody>\n",
       "    <tr>\n",
       "      <td>204822</td>\n",
       "      <td>14886</td>\n",
       "    </tr>\n",
       "    <tr>\n",
       "      <td>100274</td>\n",
       "      <td>14795</td>\n",
       "    </tr>\n",
       "    <tr>\n",
       "      <td>102145</td>\n",
       "      <td>14610</td>\n",
       "    </tr>\n",
       "    <tr>\n",
       "      <td>101924</td>\n",
       "      <td>14375</td>\n",
       "    </tr>\n",
       "    <tr>\n",
       "      <td>202123</td>\n",
       "      <td>14302</td>\n",
       "    </tr>\n",
       "  </tbody>\n",
       "</table>\n",
       "</div>"
      ],
      "text/plain": [
       "               monto\n",
       "cuenta origen       \n",
       "204822         14886\n",
       "100274         14795\n",
       "102145         14610\n",
       "101924         14375\n",
       "202123         14302"
      ]
     },
     "execution_count": 51,
     "metadata": {},
     "output_type": "execute_result"
    }
   ],
   "source": [
    "df.groupby(\"cuenta origen\").agg({\"monto\":\"max\"}).nlargest(5,\"monto\")"
   ]
  },
  {
   "cell_type": "markdown",
   "metadata": {},
   "source": [
    "# Inciso H: Para el tipo de transaccion con mayor monto promedio, indicar cuales son las cuentas con mayor cantidad de transacciones"
   ]
  },
  {
   "cell_type": "code",
   "execution_count": 54,
   "metadata": {},
   "outputs": [
    {
     "data": {
      "text/html": [
       "<div>\n",
       "<style scoped>\n",
       "    .dataframe tbody tr th:only-of-type {\n",
       "        vertical-align: middle;\n",
       "    }\n",
       "\n",
       "    .dataframe tbody tr th {\n",
       "        vertical-align: top;\n",
       "    }\n",
       "\n",
       "    .dataframe thead th {\n",
       "        text-align: right;\n",
       "    }\n",
       "</style>\n",
       "<table border=\"1\" class=\"dataframe\">\n",
       "  <thead>\n",
       "    <tr style=\"text-align: right;\">\n",
       "      <th></th>\n",
       "      <th>nro de transaccion</th>\n",
       "      <th>tipo de transaccion</th>\n",
       "      <th>cuenta destino</th>\n",
       "      <th>fecha</th>\n",
       "      <th>hora</th>\n",
       "      <th>monto</th>\n",
       "    </tr>\n",
       "    <tr>\n",
       "      <th>cuenta origen</th>\n",
       "      <th></th>\n",
       "      <th></th>\n",
       "      <th></th>\n",
       "      <th></th>\n",
       "      <th></th>\n",
       "      <th></th>\n",
       "    </tr>\n",
       "  </thead>\n",
       "  <tbody>\n",
       "    <tr>\n",
       "      <td>204822</td>\n",
       "      <td>6</td>\n",
       "      <td>6</td>\n",
       "      <td>6</td>\n",
       "      <td>6</td>\n",
       "      <td>6</td>\n",
       "      <td>6</td>\n",
       "    </tr>\n",
       "  </tbody>\n",
       "</table>\n",
       "</div>"
      ],
      "text/plain": [
       "               nro de transaccion  tipo de transaccion  cuenta destino  fecha  \\\n",
       "cuenta origen                                                                   \n",
       "204822                          6                    6               6      6   \n",
       "\n",
       "               hora  monto  \n",
       "cuenta origen               \n",
       "204822            6      6  "
      ]
     },
     "execution_count": 54,
     "metadata": {},
     "output_type": "execute_result"
    }
   ],
   "source": [
    "df.loc[df[\"tipo de transaccion\"] == \"transferencia\"].groupby(\"cuenta origen\").count().nlargest(1, \"tipo de transaccion\")"
   ]
  }
 ],
 "metadata": {
  "kernelspec": {
   "display_name": "Python 3",
   "language": "python",
   "name": "python3"
  },
  "language_info": {
   "codemirror_mode": {
    "name": "ipython",
    "version": 3
   },
   "file_extension": ".py",
   "mimetype": "text/x-python",
   "name": "python",
   "nbconvert_exporter": "python",
   "pygments_lexer": "ipython3",
   "version": "3.6.8"
  }
 },
 "nbformat": 4,
 "nbformat_minor": 2
}
